{
 "cells": [
  {
   "cell_type": "code",
   "execution_count": 5,
   "id": "d5f49d5b",
   "metadata": {},
   "outputs": [],
   "source": [
    "import json\n",
    "import pandas as pd\n",
    "import geopandas as gpd\n",
    "import geopy\n",
    "from flask import Flask, render_template, request\n",
    "import folium\n",
    "import matplotlib.pyplot as plt\n",
    "import warnings\n",
    "warnings.filterwarnings('ignore')"
   ]
  },
  {
   "cell_type": "code",
   "execution_count": 6,
   "id": "c23e6335",
   "metadata": {},
   "outputs": [],
   "source": [
    "from shapely.geometry import Point"
   ]
  },
  {
   "cell_type": "code",
   "execution_count": 8,
   "id": "6e5d96ea",
   "metadata": {},
   "outputs": [],
   "source": [
    "# Load the Excel files\n",
    "df1 = pd.read_excel(\"Delhi_Devices_Aug_Dec_2022.xlsx\", sheet_name=\"temp\")\n",
    "df2 = pd.read_excel(\"Delhi_Devices_Jan_July_2022.xlsx\", sheet_name=\"temp\")\n",
    "\n",
    "# Merge the two data frames\n",
    "df = pd.concat([df1, df2], ignore_index=True)\n",
    "\n",
    "# Remove any rows where the `station_name` column is null or not a valid geometry object\n",
    "for i in range(len(df)):\n",
    "    try:\n",
    "        geometry = df.loc[i, \"station\"]\n",
    "        gpd.points_from_xy([geometry.x, geometry.y])\n",
    "    except (ValueError, AttributeError):\n",
    "        df.drop(index=i, inplace=True)\n",
    "\n",
    "# Override the default user agent\n",
    "geopy.geocoders.options.default_user_agent = \"my-application\"\n",
    "\n",
    "# Create a geocoder object\n",
    "geocoder = geopy.Nominatim(user_agent=\"my-application-name\")\n",
    "\n",
    "# Create a GeoDataFrame from the `station` column\n",
    "gdf = gpd.GeoDataFrame(df, geometry=df[\"station\"])\n",
    "\n",
    "# Add latitude and longitude columns to the GeoDataFrame\n",
    "gdf[\"latitude\"] = gdf[\"geometry\"].apply(lambda x: geocoder.geocode(x).latitude)\n",
    "gdf[\"longitude\"] = gdf[\"geometry\"].apply(lambda x: geocoder.geocode(x).longitude)"
   ]
  },
  {
   "cell_type": "code",
   "execution_count": 22,
   "id": "7f8b1fbc",
   "metadata": {},
   "outputs": [],
   "source": [
    "import pyarrow.parquet"
   ]
  },
  {
   "cell_type": "code",
   "execution_count": 23,
   "id": "49f883f0",
   "metadata": {},
   "outputs": [],
   "source": [
    "# Save the GeoDataFrame\n",
    "gdf.to_parquet(\"combined_data_with_lat_long.parquet\")"
   ]
  },
  {
   "cell_type": "code",
   "execution_count": null,
   "id": "d451e4dd",
   "metadata": {},
   "outputs": [],
   "source": []
  }
 ],
 "metadata": {
  "kernelspec": {
   "display_name": "Python 3 (ipykernel)",
   "language": "python",
   "name": "python3"
  },
  "language_info": {
   "codemirror_mode": {
    "name": "ipython",
    "version": 3
   },
   "file_extension": ".py",
   "mimetype": "text/x-python",
   "name": "python",
   "nbconvert_exporter": "python",
   "pygments_lexer": "ipython3",
   "version": "3.9.7"
  }
 },
 "nbformat": 4,
 "nbformat_minor": 5
}
