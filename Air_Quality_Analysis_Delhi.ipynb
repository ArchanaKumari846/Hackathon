{
 "cells": [
  {
   "cell_type": "code",
   "execution_count": 14,
   "id": "74374519",
   "metadata": {},
   "outputs": [],
   "source": [
    "import os\n",
    "import pandas as pd\n",
    "from flask import Flask, render_template, request, jsonify"
   ]
  },
  {
   "cell_type": "code",
   "execution_count": 18,
   "id": "eb1bf7d8",
   "metadata": {},
   "outputs": [
    {
     "name": "stdout",
     "output_type": "stream",
     "text": [
      " * Serving Flask app \"__main__\" (lazy loading)\n",
      " * Environment: production\n",
      "\u001b[31m   WARNING: This is a development server. Do not use it in a production deployment.\u001b[0m\n",
      "\u001b[2m   Use a production WSGI server instead.\u001b[0m\n",
      " * Debug mode: on\n"
     ]
    },
    {
     "name": "stderr",
     "output_type": "stream",
     "text": [
      " * Restarting with watchdog (windowsapi)\n"
     ]
    },
    {
     "ename": "SystemExit",
     "evalue": "1",
     "output_type": "error",
     "traceback": [
      "An exception has occurred, use %tb to see the full traceback.\n",
      "\u001b[1;31mSystemExit\u001b[0m\u001b[1;31m:\u001b[0m 1\n"
     ]
    },
    {
     "name": "stderr",
     "output_type": "stream",
     "text": [
      "C:\\Users\\Archana\\anaconda3\\lib\\site-packages\\IPython\\core\\interactiveshell.py:3452: UserWarning: To exit: use 'exit', 'quit', or Ctrl-D.\n",
      "  warn(\"To exit: use 'exit', 'quit', or Ctrl-D.\", stacklevel=1)\n"
     ]
    }
   ],
   "source": [
    "app = Flask(__name__)\n",
    "\n",
    "# Define paths to data files\n",
    "data_folder = \"data\"  # Replace with the actual path to your data files\n",
    "json_filename = \"delhi.json\"\n",
    "excel_files = {\n",
    "    \"aug_dec_2022\": \"Delhi_Devices_Aug_Dec_2022.xlsx\",\n",
    "    \"jan_july_2022\": \"Delhi_Devices_Jan_July_2022.xlsx\",\n",
    "}\n",
    "\n",
    "# Load JSON data\n",
    "def load_json_data(filename):\n",
    "    with open(os.path.join(data_folder, filename), \"r\") as json_file:\n",
    "        data = json.load(json_file)\n",
    "    return data\n",
    "\n",
    "# Load Excel data\n",
    "def load_excel_data(filename, sheet_name):\n",
    "    df = pd.read_excel(os.path.join(data_folder, filename), sheet_name=sheet_name)\n",
    "    return df.to_dict(orient=\"records\")\n",
    "\n",
    "@app.route('/air_quality')\n",
    "def air_quality():\n",
    "    json_data = load_json_data(json_filename)\n",
    "    return jsonify(json_data)\n",
    "\n",
    "@app.route('/air_quality_html')\n",
    "def air_quality_html():\n",
    "    return render_template('air_quality.html')\n",
    "\n",
    "if __name__ == '__main__':\n",
    "    app.run(debug=True)"
   ]
  },
  {
   "cell_type": "code",
   "execution_count": 20,
   "id": "63eaca9b",
   "metadata": {},
   "outputs": [],
   "source": [
    "exit"
   ]
  },
  {
   "cell_type": "code",
   "execution_count": null,
   "id": "505a301a",
   "metadata": {},
   "outputs": [],
   "source": []
  }
 ],
 "metadata": {
  "kernelspec": {
   "display_name": "Python 3 (ipykernel)",
   "language": "python",
   "name": "python3"
  },
  "language_info": {
   "codemirror_mode": {
    "name": "ipython",
    "version": 3
   },
   "file_extension": ".py",
   "mimetype": "text/x-python",
   "name": "python",
   "nbconvert_exporter": "python",
   "pygments_lexer": "ipython3",
   "version": "3.9.7"
  }
 },
 "nbformat": 4,
 "nbformat_minor": 5
}
